{
 "cells": [
  {
   "cell_type": "code",
   "execution_count": 2,
   "id": "35ad3f38",
   "metadata": {},
   "outputs": [],
   "source": [
    "import numpy as np\n",
    "import scipy.special as sc\n",
    "import matplotlib.pyplot as plt\n",
    "from numpy import random\n",
    "from scipy.integrate import quad, trapezoid, fixed_quad"
   ]
  },
  {
   "cell_type": "code",
   "execution_count": 3,
   "id": "ef3f239f",
   "metadata": {},
   "outputs": [],
   "source": [
    "a = 1.2\n",
    "b = 3.1\n",
    "mu = 0.9426\n",
    "N = 1/sc.beta(a+1,b+1) #third parameter\n",
    "Pz = 5*2*np.pi / 48.0\n",
    "constant = 0.4044*4/(3*2*np.pi)\n",
    "delta = 10**-6\n",
    "#upper_bound=100\n",
    "upper_bound = 10"
   ]
  },
  {
   "cell_type": "code",
   "execution_count": 4,
   "id": "15df7def",
   "metadata": {},
   "outputs": [],
   "source": [
    "x = np.linspace(0, 1, 1000)\n",
    "value = np.zeros(len(x))\n",
    "\n",
    "# Actual plot is of x*q(x)\n",
    "for i in range(0,len(x)):\n",
    "    value[i] = N * x[i]**(a+1) * (1-x[i])**b\n",
    "#plt.plot(x,value)\n",
    "#plt.title(\"Transversity\")\n",
    "#plt.xlabel(\"x\")\n",
    "#plt.ylabel(\"x*q(x)\")\n",
    "#plt.show()"
   ]
  },
  {
   "cell_type": "code",
   "execution_count": 9,
   "id": "6893ac6f",
   "metadata": {},
   "outputs": [],
   "source": [
    "z = np.arange(0,9)\n",
    "x_range = np.arange(10**-6, 1, 10**-6)\n",
    "#print(z)\n",
    "#print(x_range)"
   ]
  },
  {
   "cell_type": "code",
   "execution_count": 10,
   "id": "8bc10148",
   "metadata": {},
   "outputs": [
    {
     "name": "stdout",
     "output_type": "stream",
     "text": [
      "[ 2.27019404  2.2604784   2.09131268  1.7602735   1.30378654  0.7776532\n",
      "  0.23880252 -0.21494316 -0.64192055]\n"
     ]
    }
   ],
   "source": [
    "# ME real\n",
    "A_r_LO = np.zeros(len(z))\n",
    "\n",
    "# 2D array where each individual array is for the different z values. Each input in each array is for a differnt x value\n",
    "A1_r = np.zeros((len(z),len(x_range)))\n",
    "A2_r = np.zeros((len(z),len(x_range)))\n",
    "A3_r = np.zeros((len(z),len(x_range)))\n",
    "A4_r = np.zeros((len(z),len(x_range)))\n",
    "A5_r = np.zeros((len(z),len(x_range)))\n",
    "A6_r = np.zeros((len(z),len(x_range)))\n",
    "\n",
    "A_r_NLO = np.zeros((len(z),len(x_range)))\n",
    "A_r1_trap = np.zeros(len(z))\n",
    "A_r2_trap = np.zeros(len(z))\n",
    "A_r3_trap = np.zeros(len(z))\n",
    "A_r4_trap = np.zeros(len(z))\n",
    "A_r5_trap = np.zeros(len(z))\n",
    "A_r6_trap = np.zeros(len(z))\n",
    "A_r = np.zeros(len(z))\n",
    "\n",
    "ME_r = np.zeros(len(z))\n",
    "\n",
    "#LO\n",
    "A_r_LO_func = lambda z: quad(lambda x: np.cos(x*Pz*z) * (N * x**a * (1-x)**b),0,1)[0]\n",
    "\n",
    "#NLO\n",
    "# Theta function implemented by changing integration bound to depend on x*(1-delta)\n",
    "#n=100000\n",
    "rA1_func = lambda x,z: (1/x)*constant * fixed_quad(lambda y:np.cos(y*Pz*z) * ((2*y/(x-y))*(np.log((x*Pz/mu)**2) + np.log(4*(y/x)*(1-(y/x)))) - (2*y/(x-y))), 0, x*(1-delta), n=10)[0] * (N * x**a * (1-x)**b)\n",
    "rA2_func = lambda x,z: np.cos(x*Pz*z) * constant * fixed_quad(lambda xi: ((2*xi/(1-xi))*(np.log((x*Pz/mu)**2) + np.log(4*xi*(1-xi))) - (2*xi/(1-xi))), x, 1-delta, n=10)[0] * (N * x**a * (1-x)**b)\n",
    "rA3_func = lambda x,z: (1/x)* fixed_quad(lambda y: np.cos(y*Pz*z)*constant*(2*(y/x)/(1-(y/x)) *np.log((y/x)/((y/x)-1)) + 2/(y/x)), x*(1+delta), upper_bound, n=10)[0] * (N * x**a * (1-x)**b)\n",
    "rA4_func = lambda x,z: np.cos(x*Pz*z)*constant*fixed_quad(lambda xi: ((2*xi/(1-xi))*np.log(xi/(xi-1)) + (2/xi)), 1+delta, upper_bound,n=10)[0]* (N * x**a * (1-x)**b)\n",
    "rA5_func = lambda x,z: (-1/x)*constant* fixed_quad(lambda y: np.cos(y*Pz*z) * ((2*y/(x+y))*np.log(y/(x+y)) + 2/(1+(y/x))), 0, upper_bound,n=10)[0] * (N * x**a * (1-x)**b)\n",
    "rA6_func = lambda x,z: np.cos(x*Pz*z)*constant * fixed_quad(lambda xi:((-2*xi/(1-xi))*np.log(xi/(xi-1)) + (2/(1-xi))), -1*upper_bound, -x, n=10)[0] * (N * x**a * (1-x)**b)   \n",
    "\n",
    "for i in range(0,len(z)):\n",
    "    A_r_LO[i] = A_r_LO_func(z[i])\n",
    "    for j in range(0,len(x_range)):\n",
    "        A1_r[i][j] = np.array(rA1_func(x_range[j], z[i]))\n",
    "        A2_r[i][j] = np.array(rA2_func(x_range[j], z[i]))\n",
    "        A3_r[i][j] = np.array(rA3_func(x_range[j], z[i]))\n",
    "        A4_r[i][j] = np.array(rA4_func(x_range[j], z[i]))\n",
    "        A5_r[i][j] = np.array(rA5_func(x_range[j], z[i]))\n",
    "        A6_r[i][j] = np.array(rA6_func(x_range[j], z[i]))\n",
    "        \n",
    "    A_r1_trap[i] = trapezoid(A1_r[i],x_range)\n",
    "    A_r2_trap[i] = trapezoid(A2_r[i],x_range)\n",
    "    A_r3_trap[i] = trapezoid(A3_r[i],x_range)\n",
    "    A_r4_trap[i] = trapezoid(A4_r[i],x_range)\n",
    "    A_r5_trap[i] = trapezoid(A5_r[i],x_range)\n",
    "    A_r6_trap[i] = trapezoid(A6_r[i],x_range)\n",
    "        \n",
    "    A_r[i] = A_r1_trap[i] - A_r2_trap[i] + A_r3_trap[i] - A_r4_trap[i] - A_r5_trap[i] - A_r6_trap[i]\n",
    "    \n",
    "    ME_r[i] = A_r_LO[i] + A_r[i]\n",
    "    \n",
    "#print(A_r_LO)\n",
    "#print(A_r1_trap)\n",
    "#print(A_r2_trap)\n",
    "#print(A_r3_trap)\n",
    "#print(A_r4_trap)\n",
    "#print(A_r5_trap)\n",
    "#print(A_r6_trap)\n",
    "#print(A_r)\n",
    "print(ME_r)"
   ]
  },
  {
   "cell_type": "code",
   "execution_count": null,
   "id": "8272c86f",
   "metadata": {},
   "outputs": [],
   "source": [
    "# ME imaginary\n",
    "A_i_LO = np.zeros(len(z))\n",
    "\n",
    "# 2D array where each individual array is for the different z values. Each input in each array is for a differnt x value\n",
    "A1_i = np.zeros((len(z),len(x_range)))\n",
    "A2_i = np.zeros((len(z),len(x_range)))\n",
    "A3_i = np.zeros((len(z),len(x_range)))\n",
    "A4_i = np.zeros((len(z),len(x_range)))\n",
    "A5_i = np.zeros((len(z),len(x_range)))\n",
    "A6_i = np.zeros((len(z),len(x_range)))\n",
    "\n",
    "A_i_NLO = np.zeros((len(z),len(x_range)))\n",
    "A_i1_trap = np.zeros(len(z))\n",
    "A_i2_trap = np.zeros(len(z))\n",
    "A_i3_trap = np.zeros(len(z))\n",
    "A_i4_trap = np.zeros(len(z))\n",
    "A_i5_trap = np.zeros(len(z))\n",
    "A_i6_trap = np.zeros(len(z))\n",
    "A_i = np.zeros(len(z))\n",
    "\n",
    "ME_i = np.zeros(len(z))\n",
    "\n",
    "#LO\n",
    "A_i_LO_func = lambda z: quad(lambda x: np.sin(x*Pz*z) * (N * x**a * (1-x)**b),0,1)[0]\n",
    "\n",
    "#NLO\n",
    "# Theta function implemented by changing integration bound to depend on x*(1-delta)\n",
    "iA1_func = lambda x,z: (1/x)*constant * fixed_quad(lambda y:np.sin(y*Pz*z) * ((2*y/(x-y))*(np.log((x*Pz/mu)**2) + np.log(4*(y/x)*(1-(y/x)))) - (2*y/(x-y))), 0, x*(1-delta), n=100000)[0] * (N * x**a * (1-x)**b)\n",
    "iA2_func = lambda x,z: np.sin(x*Pz*z) * constant * fixed_quad(lambda xi: ((2*xi/(1-xi))*(np.log((x*Pz/mu)**2) + np.log(4*xi*(1-xi))) - (2*xi/(1-xi))), x, 1-delta, n=100000)[0] * (N * x**a * (1-x)**b)\n",
    "iA3_func = lambda x,z: (1/x)* fixed_quad(lambda y: np.sin(y*Pz*z)*constant*(2*(y/x)/(1-(y/x)) *np.log((y/x)/((y/x)-1)) + 2/(y/x)), x*(1+delta), upper_bound, n=100000)[0] * (N * x**a * (1-x)**b)\n",
    "iA4_func = lambda x,z: np.sin(x*Pz*z)*constant*fixed_quad(lambda xi: ((2*xi/(1-xi))*np.log(xi/(xi-1)) + (2/xi)), 1+delta, upper_bound,n=100000)[0]* (N * x**a * (1-x)**b)\n",
    "iA5_func = lambda x,z: (-1/x)*constant* fixed_quad(lambda y: np.sin(y*Pz*z) * ((2*y/(x+y))*np.log(y/(x+y)) + 2/(1+(y/x))), 0, upper_bound,n=100000)[0] * conf['transversity'].get_C(x, Q2)[1]\n",
    "iA6_func = lambda x: np.sin(x*Pz*z)*constant * fixed_quad(lambda xi:((-2*xi/(1-xi))*np.log(xi/(xi-1)) + (2/(1-xi))), -1*upper_bound, -x, n=100000)[0] * conf['transversity'].get_C(x, Q2)[1]   \n",
    "\n",
    "for i in range(0,len(z)):\n",
    "    A_i_LO[i] = A_i_LO_func(z[i])\n",
    "    for j in range(0,len(x_range)):\n",
    "        A1_i[i][j] = np.array(iA1_func(x_range[j], z[i]))\n",
    "        A2_i[i][j] = np.array(iA2_func(x_range[j], z[i]))\n",
    "        A3_i[i][j] = np.array(iA3_func(x_range[j], z[i]))\n",
    "        A4_i[i][j] = np.array(iA4_func(x_range[j], z[i]))\n",
    "        A5_i[i][j] = np.array(iA5_func(x_range[j], z[i]))\n",
    "        A6_i[i][j] = np.array(iA6_func(x_range[j], z[i]))\n",
    "        \n",
    "    A_i1_trap[i] = trapezoid(A1_i[i],x_range)\n",
    "    A_i2_trap[i] = trapezoid(A2_i[i],x_range)\n",
    "    A_i3_trap[i] = trapezoid(A3_i[i],x_range)\n",
    "    A_i4_trap[i] = trapezoid(A4_i[i],x_range)\n",
    "    A_i5_trap[i] = trapezoid(A5_i[i],x_range)\n",
    "    A_i6_trap[i] = trapezoid(A6_i[i],x_range)\n",
    "        \n",
    "    A_i[i] = A_i1_trap[i] - A_i2_trap[i] + A_i3_trap[i] - A_i4_trap[i] - A_i5_trap[i] - A_i6_trap[i]\n",
    "    \n",
    "    ME_i[i] = A_i_LO[i] + A_i[i]\n",
    "    \n",
    "#print(A_i_LO)\n",
    "#print(A_i1_trap)\n",
    "#print(A_i2_trap)\n",
    "#print(A_i3_trap)\n",
    "#print(A_i4_trap)\n",
    "#print(A_i5_trap)\n",
    "#print(A_i6_trap)\n",
    "#print(A_i)\n",
    "#print(ME_i)"
   ]
  },
  {
   "cell_type": "code",
   "execution_count": 5,
   "id": "3773e2e9",
   "metadata": {},
   "outputs": [
    {
     "ename": "NameError",
     "evalue": "name 'z' is not defined",
     "output_type": "error",
     "traceback": [
      "\u001b[0;31m---------------------------------------------------------------------------\u001b[0m",
      "\u001b[0;31mNameError\u001b[0m                                 Traceback (most recent call last)",
      "\u001b[0;32m<ipython-input-5-91c68a018557>\u001b[0m in \u001b[0;36m<module>\u001b[0;34m\u001b[0m\n\u001b[0;32m----> 1\u001b[0;31m \u001b[0mplt\u001b[0m\u001b[0;34m.\u001b[0m\u001b[0mscatter\u001b[0m\u001b[0;34m(\u001b[0m\u001b[0mz\u001b[0m\u001b[0;34m,\u001b[0m \u001b[0mA_r_LO\u001b[0m\u001b[0;34m)\u001b[0m\u001b[0;34m\u001b[0m\u001b[0;34m\u001b[0m\u001b[0m\n\u001b[0m\u001b[1;32m      2\u001b[0m \u001b[0mplt\u001b[0m\u001b[0;34m.\u001b[0m\u001b[0mscatter\u001b[0m\u001b[0;34m(\u001b[0m\u001b[0mz\u001b[0m\u001b[0;34m,\u001b[0m \u001b[0;34m-\u001b[0m\u001b[0mA_i_LO\u001b[0m\u001b[0;34m)\u001b[0m\u001b[0;34m\u001b[0m\u001b[0;34m\u001b[0m\u001b[0m\n\u001b[1;32m      3\u001b[0m \u001b[0mplt\u001b[0m\u001b[0;34m.\u001b[0m\u001b[0mxlabel\u001b[0m\u001b[0;34m(\u001b[0m\u001b[0;34m\"z/a\"\u001b[0m\u001b[0;34m)\u001b[0m\u001b[0;34m\u001b[0m\u001b[0;34m\u001b[0m\u001b[0m\n\u001b[1;32m      4\u001b[0m \u001b[0mplt\u001b[0m\u001b[0;34m.\u001b[0m\u001b[0mylabel\u001b[0m\u001b[0;34m(\u001b[0m\u001b[0;34m\"$ME_{LO}$\"\u001b[0m\u001b[0;34m)\u001b[0m\u001b[0;34m\u001b[0m\u001b[0;34m\u001b[0m\u001b[0m\n\u001b[1;32m      5\u001b[0m \u001b[0mplt\u001b[0m\u001b[0;34m.\u001b[0m\u001b[0mshow\u001b[0m\u001b[0;34m(\u001b[0m\u001b[0;34m)\u001b[0m\u001b[0;34m\u001b[0m\u001b[0;34m\u001b[0m\u001b[0m\n",
      "\u001b[0;31mNameError\u001b[0m: name 'z' is not defined"
     ]
    }
   ],
   "source": [
    "plt.scatter(z, A_r_LO)\n",
    "plt.scatter(z, -A_i_LO)\n",
    "plt.xlabel(\"z/a\")\n",
    "plt.ylabel(\"$ME_{LO}$\")\n",
    "plt.show()"
   ]
  },
  {
   "cell_type": "code",
   "execution_count": 6,
   "id": "729e8ae3",
   "metadata": {},
   "outputs": [
    {
     "ename": "NameError",
     "evalue": "name 'z' is not defined",
     "output_type": "error",
     "traceback": [
      "\u001b[0;31m---------------------------------------------------------------------------\u001b[0m",
      "\u001b[0;31mNameError\u001b[0m                                 Traceback (most recent call last)",
      "\u001b[0;32m<ipython-input-6-7f1a067dde00>\u001b[0m in \u001b[0;36m<module>\u001b[0;34m\u001b[0m\n\u001b[0;32m----> 1\u001b[0;31m \u001b[0mplt\u001b[0m\u001b[0;34m.\u001b[0m\u001b[0mscatter\u001b[0m\u001b[0;34m(\u001b[0m\u001b[0mz\u001b[0m\u001b[0;34m,\u001b[0m \u001b[0mA_r_NLO_trap\u001b[0m\u001b[0;34m)\u001b[0m\u001b[0;34m\u001b[0m\u001b[0;34m\u001b[0m\u001b[0m\n\u001b[0m\u001b[1;32m      2\u001b[0m \u001b[0mplt\u001b[0m\u001b[0;34m.\u001b[0m\u001b[0mscatter\u001b[0m\u001b[0;34m(\u001b[0m\u001b[0mz\u001b[0m\u001b[0;34m,\u001b[0m \u001b[0;34m-\u001b[0m\u001b[0mA_i_NLO_trap\u001b[0m\u001b[0;34m)\u001b[0m\u001b[0;34m\u001b[0m\u001b[0;34m\u001b[0m\u001b[0m\n\u001b[1;32m      3\u001b[0m \u001b[0mplt\u001b[0m\u001b[0;34m.\u001b[0m\u001b[0mxlabel\u001b[0m\u001b[0;34m(\u001b[0m\u001b[0;34m\"z/a\"\u001b[0m\u001b[0;34m)\u001b[0m\u001b[0;34m\u001b[0m\u001b[0;34m\u001b[0m\u001b[0m\n\u001b[1;32m      4\u001b[0m \u001b[0mplt\u001b[0m\u001b[0;34m.\u001b[0m\u001b[0mylabel\u001b[0m\u001b[0;34m(\u001b[0m\u001b[0;34m\"$ME_{NLO}$\"\u001b[0m\u001b[0;34m)\u001b[0m\u001b[0;34m\u001b[0m\u001b[0;34m\u001b[0m\u001b[0m\n\u001b[1;32m      5\u001b[0m \u001b[0mplt\u001b[0m\u001b[0;34m.\u001b[0m\u001b[0mshow\u001b[0m\u001b[0;34m(\u001b[0m\u001b[0;34m)\u001b[0m\u001b[0;34m\u001b[0m\u001b[0;34m\u001b[0m\u001b[0m\n",
      "\u001b[0;31mNameError\u001b[0m: name 'z' is not defined"
     ]
    }
   ],
   "source": [
    "plt.scatter(z, A_r_NLO_trap)\n",
    "plt.scatter(z, -A_i_NLO_trap)\n",
    "plt.xlabel(\"z/a\")\n",
    "plt.ylabel(\"$ME_{NLO}$\")\n",
    "plt.show()"
   ]
  },
  {
   "cell_type": "code",
   "execution_count": null,
   "id": "16370038",
   "metadata": {},
   "outputs": [],
   "source": [
    "plt.scatter(z, ME_r)\n",
    "plt.scatter(z, -ME_i)\n",
    "plt.xlabel(\"z/a\")\n",
    "plt.ylabel(\"ME\")\n",
    "plt.show()"
   ]
  },
  {
   "cell_type": "code",
   "execution_count": null,
   "id": "9d5340d7",
   "metadata": {},
   "outputs": [],
   "source": [
    "plt.scatter(z, ME_r)\n",
    "plt.scatter(z, -ME_i)\n",
    "plt.xlabel(\"z/a\")\n",
    "plt.ylabel(\"ME\")\n",
    "plt.show()"
   ]
  },
  {
   "cell_type": "code",
   "execution_count": null,
   "id": "21f80f73",
   "metadata": {},
   "outputs": [],
   "source": []
  }
 ],
 "metadata": {
  "kernelspec": {
   "display_name": "Python 3",
   "language": "python",
   "name": "python3"
  },
  "language_info": {
   "codemirror_mode": {
    "name": "ipython",
    "version": 3
   },
   "file_extension": ".py",
   "mimetype": "text/x-python",
   "name": "python",
   "nbconvert_exporter": "python",
   "pygments_lexer": "ipython3",
   "version": "3.8.8"
  }
 },
 "nbformat": 4,
 "nbformat_minor": 5
}
